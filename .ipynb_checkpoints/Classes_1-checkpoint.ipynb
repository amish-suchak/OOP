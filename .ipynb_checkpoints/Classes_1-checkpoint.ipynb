{
 "cells": [
  {
   "cell_type": "markdown",
   "metadata": {},
   "source": [
    "# Defining a basic class"
   ]
  },
  {
   "cell_type": "code",
   "execution_count": 19,
   "metadata": {},
   "outputs": [],
   "source": [
    "class Bank:\n",
    "    customer_name = 'Amish'\n",
    "    customer_age = 60\n",
    "    customer_social_security = 123456789\n"
   ]
  },
  {
   "cell_type": "code",
   "execution_count": 20,
   "metadata": {},
   "outputs": [
    {
     "data": {
      "text/plain": [
       "'Amish'"
      ]
     },
     "execution_count": 20,
     "metadata": {},
     "output_type": "execute_result"
    }
   ],
   "source": [
    "first_customer = Bank\n",
    "first_customer.customer_name"
   ]
  },
  {
   "cell_type": "code",
   "execution_count": 21,
   "metadata": {},
   "outputs": [
    {
     "data": {
      "text/plain": [
       "123456789"
      ]
     },
     "execution_count": 21,
     "metadata": {},
     "output_type": "execute_result"
    }
   ],
   "source": [
    "first_customer.customer_social_security"
   ]
  },
  {
   "cell_type": "markdown",
   "metadata": {},
   "source": [
    "## Changing variables within a class \n",
    "Use setattr to modify attributes of a class\n",
    "\n",
    "```Python\n",
    "setattr = (class_name, attribute_name, updated_value)\n",
    "\n",
    "```"
   ]
  },
  {
   "cell_type": "markdown",
   "metadata": {},
   "source": [
    "Suppose we get a second customer and we want to also get the properties of that customer from the Bank class"
   ]
  },
  {
   "cell_type": "code",
   "execution_count": 24,
   "metadata": {},
   "outputs": [],
   "source": [
    "setattr(Bank, 'customer_name', 'John')\n",
    "setattr(Bank, 'customer_age', 25)\n",
    "setattr(Bank, 'customer_social_security', 23424234)"
   ]
  },
  {
   "cell_type": "code",
   "execution_count": 25,
   "metadata": {},
   "outputs": [
    {
     "name": "stdout",
     "output_type": "stream",
     "text": [
      "John 25 23424234\n"
     ]
    }
   ],
   "source": [
    "second_customer = Bank\n",
    "print(second_customer.customer_name, second_customer.customer_age, second_customer.customer_social_security)"
   ]
  },
  {
   "cell_type": "markdown",
   "metadata": {},
   "source": [
    "## Changing variables with setattr is not very efficient\n",
    "\n",
    "The goal is to find an easier way to define new customers in a bank.\n",
    "\n",
    "Which is why we introduce a constructor to re-define the python class. "
   ]
  },
  {
   "cell_type": "code",
   "execution_count": 43,
   "metadata": {},
   "outputs": [],
   "source": [
    "third_customer = Bank('Smith', 30, 53234234)"
   ]
  },
  {
   "cell_type": "code",
   "execution_count": 44,
   "metadata": {},
   "outputs": [],
   "source": [
    "class Bank:\n",
    "    def __init__(self, customer_name, customer_age, customer_social_security):\n",
    "        self.customer_name = customer_name\n",
    "        self.customer_age = customer_age\n",
    "        self.customer_social_security = customer_social_security"
   ]
  },
  {
   "cell_type": "code",
   "execution_count": 47,
   "metadata": {},
   "outputs": [
    {
     "name": "stdout",
     "output_type": "stream",
     "text": [
      "Smith 30 53234234\n"
     ]
    }
   ],
   "source": [
    "third_customer = Bank('Smith', 30, 53234234)\n",
    "print(third_customer.customer_name, third_customer.customer_age, third_customer.customer_social_security)"
   ]
  },
  {
   "cell_type": "markdown",
   "metadata": {},
   "source": [
    "## Adding default values in constructor "
   ]
  },
  {
   "cell_type": "code",
   "execution_count": 41,
   "metadata": {},
   "outputs": [],
   "source": [
    "class Bank:\n",
    "    def __init__(self, customer_name = 'NaN', customer_age = 'NaN', customer_social_security = 'NaN'):\n",
    "        self.customer_name = customer_name\n",
    "        self.customer_age = customer_age\n",
    "        self.customer_social_security = customer_social_security"
   ]
  },
  {
   "cell_type": "code",
   "execution_count": 42,
   "metadata": {},
   "outputs": [
    {
     "name": "stdout",
     "output_type": "stream",
     "text": [
      "Smith 30 NaN\n"
     ]
    }
   ],
   "source": [
    "third_customer = Bank('Smith', 30)\n",
    "print(third_customer.customer_name, third_customer.customer_age, third_customer.customer_social_security)"
   ]
  },
  {
   "cell_type": "markdown",
   "metadata": {},
   "source": [
    "## Each class can have its own functions "
   ]
  },
  {
   "cell_type": "code",
   "execution_count": 57,
   "metadata": {},
   "outputs": [],
   "source": [
    "class Bank:\n",
    "    def __init__(self,monthly_income, monthly_expenditure,customer_name = 'NaN',customer_age = 'NaN', customer_social_security = 'NaN'):\n",
    "        self.customer_name = customer_name\n",
    "        self.customer_age = customer_age\n",
    "        self.customer_social_security = customer_social_security\n",
    "        self.monthly_income = monthly_income\n",
    "        self.monthly_expenditure = monthly_expenditure\n",
    "    \n",
    "    def debt_to_income_ratio(self):\n",
    "        return self.monthly_expenditure/self.monthly_income\n",
    "        "
   ]
  },
  {
   "cell_type": "code",
   "execution_count": 58,
   "metadata": {},
   "outputs": [],
   "source": [
    "fourth_customer = Bank(customer_name = 'Alex',\n",
    "                       customer_age = 25,\n",
    "                       customer_social_security = 123463465,\n",
    "                       monthly_income = 5000,\n",
    "                       monthly_expenditure = 3000)"
   ]
  },
  {
   "cell_type": "code",
   "execution_count": 59,
   "metadata": {},
   "outputs": [
    {
     "data": {
      "text/plain": [
       "0.6"
      ]
     },
     "execution_count": 59,
     "metadata": {},
     "output_type": "execute_result"
    }
   ],
   "source": [
    "fourth_customer.debt_to_income_ratio()"
   ]
  },
  {
   "cell_type": "code",
   "execution_count": 62,
   "metadata": {},
   "outputs": [],
   "source": [
    "fifth_customer = Bank(customer_name = 'Carmen',\n",
    "                       customer_age = 32,\n",
    "                       customer_social_security = 123463465,\n",
    "                       monthly_income = 10000,\n",
    "                       monthly_expenditure = 2000)"
   ]
  },
  {
   "cell_type": "code",
   "execution_count": 63,
   "metadata": {},
   "outputs": [
    {
     "data": {
      "text/plain": [
       "0.2"
      ]
     },
     "execution_count": 63,
     "metadata": {},
     "output_type": "execute_result"
    }
   ],
   "source": [
    "fifth_customer.debt_to_income_ratio()"
   ]
  },
  {
   "cell_type": "markdown",
   "metadata": {},
   "source": [
    "# Passing arguments with *args and *kwargs"
   ]
  },
  {
   "cell_type": "markdown",
   "metadata": {},
   "source": [
    "Suppose we wanted to create a \"total income\" calculator function where we calculate all the money someone is earning from 2 jobs. The easiest way to do that would be : "
   ]
  },
  {
   "cell_type": "code",
   "execution_count": 71,
   "metadata": {},
   "outputs": [],
   "source": [
    "def total_income_calculator_for_people_with_2_jobs(main_job_income, side_job_income):\n",
    "    return main_job_income + side_job_income"
   ]
  },
  {
   "cell_type": "code",
   "execution_count": 72,
   "metadata": {},
   "outputs": [
    {
     "data": {
      "text/plain": [
       "1500"
      ]
     },
     "execution_count": 72,
     "metadata": {},
     "output_type": "execute_result"
    }
   ],
   "source": [
    "total_income_calculator_for_people_with_2_jobs(1000,500)"
   ]
  },
  {
   "cell_type": "markdown",
   "metadata": {},
   "source": [
    "However, what if someone worked 3 jobs instead of 2? we would then need to create a new function"
   ]
  },
  {
   "cell_type": "code",
   "execution_count": 73,
   "metadata": {},
   "outputs": [],
   "source": [
    "def total_income_calculator_for_people_with_3_jobs(main_job_income, side_job_1_income, side_job_2_income):\n",
    "    return main_job_income + side_job_1_income + side_job_2_income"
   ]
  },
  {
   "cell_type": "code",
   "execution_count": 74,
   "metadata": {},
   "outputs": [
    {
     "data": {
      "text/plain": [
       "2000"
      ]
     },
     "execution_count": 74,
     "metadata": {},
     "output_type": "execute_result"
    }
   ],
   "source": [
    "total_income_calculator_for_people_with_3_jobs(1000,500,500)"
   ]
  },
  {
   "cell_type": "markdown",
   "metadata": {},
   "source": [
    "### Introducing *args\n",
    "\n",
    "With _*args_ , we can pass as many parameters as we want to the function "
   ]
  },
  {
   "cell_type": "code",
   "execution_count": 76,
   "metadata": {},
   "outputs": [
    {
     "data": {
      "text/plain": [
       "2500"
      ]
     },
     "execution_count": 76,
     "metadata": {},
     "output_type": "execute_result"
    }
   ],
   "source": [
    "def total_income_calculator(*args):\n",
    "    result = 0\n",
    "    for job in args:\n",
    "        result += job\n",
    "    return result\n",
    "\n",
    "total_income_calculator(1000,500,500,500)"
   ]
  },
  {
   "cell_type": "code",
   "execution_count": 77,
   "metadata": {},
   "outputs": [
    {
     "data": {
      "text/plain": [
       "8500"
      ]
     },
     "execution_count": 77,
     "metadata": {},
     "output_type": "execute_result"
    }
   ],
   "source": [
    "total_income_calculator(1000,500,500,500,500,500,500,500,500,500,500,500,500,500,500,500)"
   ]
  },
  {
   "cell_type": "markdown",
   "metadata": {},
   "source": [
    "## Difference between args and kwargs is that kwargs needs a variable defined"
   ]
  },
  {
   "cell_type": "code",
   "execution_count": 81,
   "metadata": {},
   "outputs": [
    {
     "name": "stdout",
     "output_type": "stream",
     "text": [
      "{'name': 'John'}\n"
     ]
    },
    {
     "data": {
      "text/plain": [
       "2500"
      ]
     },
     "execution_count": 81,
     "metadata": {},
     "output_type": "execute_result"
    }
   ],
   "source": [
    "def total_income_calculator(*args, **kwargs):\n",
    "    result = 0\n",
    "#     print(kwargs)\n",
    "    for job in args:\n",
    "        result += job\n",
    "    return result\n",
    "\n",
    "total_income_calculator(1000,500,500,500, name = 'John')"
   ]
  },
  {
   "cell_type": "markdown",
   "metadata": {},
   "source": [
    "Define a Python *function, `display_user_total_assets2`*, that takes two parameters:  a variable *list* containing a user's name and a *dictionary* containing a user's assets. The *function* should return a *string* containing the person's name concatenated followed by a \":\" and the sum of all assets.\n",
    "\n",
    "Example: If you were to pass `\"John\", \"S.\" \"Smith\",\"III\", Car=30000, House=450000, Savings=1000000`, then the *function* would return: `John S. Smith III: 1480000`,  where `1480000` is the sum of all assets in the *dictionary*.\n",
    "\n",
    "Test your *function* with the inputs ` \"John\", \"S.\", \"Smith\", \"III\", Car=30000, House=450000, Savings=1000000`. \n",
    "\n",
    "Next, test your *function* with the inputs`\"Joe\", \"Clark\", Car=15000, House=250000` "
   ]
  },
  {
   "cell_type": "code",
   "execution_count": 66,
   "metadata": {},
   "outputs": [
    {
     "name": "stdout",
     "output_type": "stream",
     "text": [
      "printing all the arguments with no keywords John\n",
      "printing all the arguments with no keywords S.\n",
      "printing all the arguments with no keywords Smith\n",
      "printing all the arguments with no keywords III\n",
      " John S. Smith III: \n"
     ]
    },
    {
     "data": {
      "text/plain": [
       "' John S. Smith III: 1480000'"
      ]
     },
     "execution_count": 66,
     "metadata": {},
     "output_type": "execute_result"
    }
   ],
   "source": [
    "def display_user_total_assets2(*args, **kwargs):\n",
    "    \n",
    "    result = ''\n",
    "    \n",
    "    for i in args:\n",
    "        print(\"printing all the arguments with no keywords\", i)\n",
    "        result = result + ' ' + i\n",
    "        \n",
    "    result = result + ': '\n",
    "    print(result)\n",
    "    \n",
    "    sum_assets = 0\n",
    "    for x in kwargs.values():\n",
    "        sum_assets = sum_assets + x\n",
    "    result = result + str(sum_assets)\n",
    "    return result\n",
    "\n",
    "display_user_total_assets2(\"John\", \"S.\", \"Smith\", \"III\", Car=30000, House=450000, Savings=1000000)"
   ]
  },
  {
   "cell_type": "markdown",
   "metadata": {},
   "source": [
    "# Decorators\n",
    "\n",
    "* function copy\n",
    "* closures\n",
    "* decorators"
   ]
  },
  {
   "cell_type": "markdown",
   "metadata": {},
   "source": [
    "### Part 1 : Function copy"
   ]
  },
  {
   "cell_type": "code",
   "execution_count": 90,
   "metadata": {},
   "outputs": [],
   "source": [
    "# If I create a function\n",
    "\n",
    "def helloworld():\n",
    "    return(\"hello world!\")"
   ]
  },
  {
   "cell_type": "code",
   "execution_count": 91,
   "metadata": {},
   "outputs": [
    {
     "data": {
      "text/plain": [
       "'hello world!'"
      ]
     },
     "execution_count": 91,
     "metadata": {},
     "output_type": "execute_result"
    }
   ],
   "source": [
    "helloworld()"
   ]
  },
  {
   "cell_type": "markdown",
   "metadata": {},
   "source": [
    "I can assign a variable to a function"
   ]
  },
  {
   "cell_type": "code",
   "execution_count": 92,
   "metadata": {},
   "outputs": [],
   "source": [
    "assign_func = helloworld()"
   ]
  },
  {
   "cell_type": "code",
   "execution_count": 94,
   "metadata": {},
   "outputs": [
    {
     "data": {
      "text/plain": [
       "'hello world!'"
      ]
     },
     "execution_count": 94,
     "metadata": {},
     "output_type": "execute_result"
    }
   ],
   "source": [
    "assign_func"
   ]
  },
  {
   "cell_type": "markdown",
   "metadata": {},
   "source": [
    "What would happen if I were to delete the helloworld() function?"
   ]
  },
  {
   "cell_type": "code",
   "execution_count": 95,
   "metadata": {},
   "outputs": [],
   "source": [
    "del helloworld"
   ]
  },
  {
   "cell_type": "code",
   "execution_count": 96,
   "metadata": {},
   "outputs": [
    {
     "ename": "NameError",
     "evalue": "name 'helloworld' is not defined",
     "output_type": "error",
     "traceback": [
      "\u001b[1;31m---------------------------------------------------------------------------\u001b[0m",
      "\u001b[1;31mNameError\u001b[0m                                 Traceback (most recent call last)",
      "Input \u001b[1;32mIn [96]\u001b[0m, in \u001b[0;36m<cell line: 1>\u001b[1;34m()\u001b[0m\n\u001b[1;32m----> 1\u001b[0m \u001b[43mhelloworld\u001b[49m\n",
      "\u001b[1;31mNameError\u001b[0m: name 'helloworld' is not defined"
     ]
    }
   ],
   "source": [
    "helloworld"
   ]
  },
  {
   "cell_type": "code",
   "execution_count": 97,
   "metadata": {},
   "outputs": [
    {
     "data": {
      "text/plain": [
       "'hello world!'"
      ]
     },
     "execution_count": 97,
     "metadata": {},
     "output_type": "execute_result"
    }
   ],
   "source": [
    "assign_func"
   ]
  },
  {
   "cell_type": "markdown",
   "metadata": {},
   "source": [
    "### Part 2 : Closures\n",
    "\n",
    "Writing a function inside another function"
   ]
  },
  {
   "cell_type": "code",
   "execution_count": 100,
   "metadata": {},
   "outputs": [],
   "source": [
    "def outer_function():\n",
    "    sentence_1 = \"Outer function sentence\"\n",
    "    \n",
    "    def inner_function():\n",
    "        print(\"Inner function sentence\")\n",
    "        print(sentence_1)\n",
    "        \n",
    "    return inner_function()"
   ]
  },
  {
   "cell_type": "code",
   "execution_count": 101,
   "metadata": {},
   "outputs": [
    {
     "name": "stdout",
     "output_type": "stream",
     "text": [
      "Inner function sentence\n",
      "Outer function sentence\n"
     ]
    }
   ],
   "source": [
    "outer_function()"
   ]
  },
  {
   "cell_type": "markdown",
   "metadata": {},
   "source": [
    "**All the variables in the outer function are accessible in the inner function.**"
   ]
  },
  {
   "cell_type": "code",
   "execution_count": 107,
   "metadata": {},
   "outputs": [],
   "source": [
    "def outer_function(function):\n",
    "    sentence_1 = \"Outer function sentence\"\n",
    "    \n",
    "    def inner_function():\n",
    "        print(\"Inner function sentence\")\n",
    "        function(\"Since this is a print function, it will print this statement\")\n",
    "        \n",
    "    return inner_function()"
   ]
  },
  {
   "cell_type": "code",
   "execution_count": 108,
   "metadata": {},
   "outputs": [
    {
     "name": "stdout",
     "output_type": "stream",
     "text": [
      "Inner function sentence\n",
      "Since this is a print function, it will print this statement\n",
      "Outer function sentence\n"
     ]
    }
   ],
   "source": [
    "outer_function(print)"
   ]
  },
  {
   "cell_type": "markdown",
   "metadata": {},
   "source": [
    "### Part 3a : Decorators"
   ]
  },
  {
   "cell_type": "code",
   "execution_count": 109,
   "metadata": {},
   "outputs": [],
   "source": [
    "def outer_function(function):\n",
    "    sentence_1 = \"Outer function sentence\"\n",
    "    \n",
    "    def inner_function():\n",
    "        print(\"Inner function sentence\")\n",
    "        function()\n",
    "        \n",
    "    return inner_function()"
   ]
  },
  {
   "cell_type": "code",
   "execution_count": 110,
   "metadata": {},
   "outputs": [],
   "source": [
    "def outside_function():\n",
    "    print(\"Outside function sentence\")"
   ]
  },
  {
   "cell_type": "code",
   "execution_count": 111,
   "metadata": {},
   "outputs": [
    {
     "name": "stdout",
     "output_type": "stream",
     "text": [
      "Inner function sentence\n",
      "Outside function sentence\n"
     ]
    }
   ],
   "source": [
    "outer_function(outside_function)"
   ]
  },
  {
   "cell_type": "markdown",
   "metadata": {},
   "source": [
    "### Part 3b : Decorators defined differently"
   ]
  },
  {
   "cell_type": "code",
   "execution_count": null,
   "metadata": {},
   "outputs": [],
   "source": []
  }
 ],
 "metadata": {
  "kernelspec": {
   "display_name": "Python [conda env:dev_env]",
   "language": "python",
   "name": "conda-env-dev_env-py"
  },
  "language_info": {
   "codemirror_mode": {
    "name": "ipython",
    "version": 3
   },
   "file_extension": ".py",
   "mimetype": "text/x-python",
   "name": "python",
   "nbconvert_exporter": "python",
   "pygments_lexer": "ipython3",
   "version": "3.9.11"
  }
 },
 "nbformat": 4,
 "nbformat_minor": 2
}
